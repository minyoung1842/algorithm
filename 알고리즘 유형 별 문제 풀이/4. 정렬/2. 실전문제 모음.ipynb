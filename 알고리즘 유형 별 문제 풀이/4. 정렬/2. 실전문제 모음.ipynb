{
 "cells": [
  {
   "cell_type": "markdown",
   "metadata": {},
   "source": [
    "### 실전 1. 위에서 아래로"
   ]
  },
  {
   "cell_type": "markdown",
   "metadata": {},
   "source": [
    "내림차순으로 수열을 나열"
   ]
  },
  {
   "cell_type": "code",
   "execution_count": 1,
   "metadata": {},
   "outputs": [],
   "source": [
    "def solution(x):\n",
    "    return sorted(x, reverse = True)"
   ]
  },
  {
   "cell_type": "code",
   "execution_count": 2,
   "metadata": {},
   "outputs": [
    {
     "data": {
      "text/plain": [
       "[27, 15, 12]"
      ]
     },
     "execution_count": 2,
     "metadata": {},
     "output_type": "execute_result"
    }
   ],
   "source": [
    "x = [15, 27, 12]\n",
    "solution(x)"
   ]
  },
  {
   "cell_type": "markdown",
   "metadata": {},
   "source": [
    "### 실전 2. 성적이 낮은 순서로 학생 출력하기"
   ]
  },
  {
   "cell_type": "markdown",
   "metadata": {},
   "source": [
    "학생 이름과 성적 정보가 입력되었을 때, 성적이 낮은 순서대로 학생의 이름을 출력"
   ]
  },
  {
   "cell_type": "code",
   "execution_count": 3,
   "metadata": {},
   "outputs": [],
   "source": [
    "def solution(students):\n",
    "    sort_students = sorted(students, key = lambda students: students[1])\n",
    "    return [x[0] for x in sort_students]"
   ]
  },
  {
   "cell_type": "code",
   "execution_count": 4,
   "metadata": {},
   "outputs": [
    {
     "data": {
      "text/plain": [
       "['이순신', '홍길동']"
      ]
     },
     "execution_count": 4,
     "metadata": {},
     "output_type": "execute_result"
    }
   ],
   "source": [
    "students = [['홍길동', 95], ['이순신', 77]]\n",
    "solution(students)"
   ]
  },
  {
   "cell_type": "markdown",
   "metadata": {},
   "source": [
    "### 실전 3. 두 배열의 원소 교체"
   ]
  },
  {
   "cell_type": "markdown",
   "metadata": {},
   "source": [
    "두 개의 배열 A, B가 주어지고 이 두 배열의 원소를 K번 바꿔치기할 수 있을 때, 만들 수 있는 A배열의 최대 합을 구하시오"
   ]
  },
  {
   "cell_type": "code",
   "execution_count": 5,
   "metadata": {},
   "outputs": [],
   "source": [
    "def solution(K, A, B):\n",
    "    A.sort()\n",
    "    B.sort(reverse = True)\n",
    "    A[:K] = B[:K]\n",
    "    return sum(A)"
   ]
  },
  {
   "cell_type": "code",
   "execution_count": 6,
   "metadata": {},
   "outputs": [
    {
     "data": {
      "text/plain": [
       "26"
      ]
     },
     "execution_count": 6,
     "metadata": {},
     "output_type": "execute_result"
    }
   ],
   "source": [
    "K = 3\n",
    "A = [1, 2, 5, 4, 3]\n",
    "B = [5, 5, 6, 6, 5]\n",
    "solution(K, A, B)"
   ]
  }
 ],
 "metadata": {
  "kernelspec": {
   "display_name": "Python 3",
   "language": "python",
   "name": "python3"
  },
  "language_info": {
   "codemirror_mode": {
    "name": "ipython",
    "version": 3
   },
   "file_extension": ".py",
   "mimetype": "text/x-python",
   "name": "python",
   "nbconvert_exporter": "python",
   "pygments_lexer": "ipython3",
   "version": "3.8.3"
  }
 },
 "nbformat": 4,
 "nbformat_minor": 4
}
