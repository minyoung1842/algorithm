{
 "cells": [
  {
   "cell_type": "markdown",
   "metadata": {},
   "source": [
    "일직선 상의 마을에 각 집의 위치를 location 리스트에 주어졌을 때, 안테나로부터 모든 집까지의 거리의 총합이 최소가 되는 위치에 안테나를 설치하려고 한다. 만약 안테나는 집이 있는 위치에만 설치가 가능할 때, 안테나가 설치되는 위치를 반환하여라.\n",
    "\n",
    "출처: 2019 SW 마에스트로 입학 테스트"
   ]
  },
  {
   "cell_type": "code",
   "execution_count": 1,
   "metadata": {},
   "outputs": [],
   "source": [
    "def solution(location):\n",
    "    result = {}\n",
    "    location.sort()\n",
    "    for i in location:\n",
    "        result[i] = sum([abs(x - i) for x in location])\n",
    "    m = min(result.values())\n",
    "    for a, b in result.items():\n",
    "        if b == m: return a"
   ]
  },
  {
   "cell_type": "code",
   "execution_count": 2,
   "metadata": {},
   "outputs": [],
   "source": [
    "#중간값 이용하는 방법\n",
    "def solution(location):\n",
    "    n = len(location)\n",
    "    location.sort()\n",
    "    return location[(n-1)//2]#0index라서 n+1이 아니라 n-1을 사용한다"
   ]
  },
  {
   "cell_type": "code",
   "execution_count": 3,
   "metadata": {},
   "outputs": [
    {
     "data": {
      "text/plain": [
       "5"
      ]
     },
     "execution_count": 3,
     "metadata": {},
     "output_type": "execute_result"
    }
   ],
   "source": [
    "location = [5, 1, 7, 9]\n",
    "solution(location)"
   ]
  }
 ],
 "metadata": {
  "kernelspec": {
   "display_name": "Python 3",
   "language": "python",
   "name": "python3"
  },
  "language_info": {
   "codemirror_mode": {
    "name": "ipython",
    "version": 3
   },
   "file_extension": ".py",
   "mimetype": "text/x-python",
   "name": "python",
   "nbconvert_exporter": "python",
   "pygments_lexer": "ipython3",
   "version": "3.8.3"
  }
 },
 "nbformat": 4,
 "nbformat_minor": 4
}
