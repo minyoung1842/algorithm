{
 "cells": [
  {
   "cell_type": "markdown",
   "metadata": {},
   "source": [
    "다음과 같은 순서로 학생의 이름을 정렬한다\n",
    "1. 국어 점수가 감소하는 순서로\n",
    "2. 국어 점수가 같으면 영어 점수가 증가하는 순서로\n",
    "3. 국어 점수와 영어 점수가 같으면 수학 점수가 감소하는 순서로\n",
    "4. 모든 점수가 같으면 이름의 사전순으로"
   ]
  },
  {
   "cell_type": "code",
   "execution_count": 1,
   "metadata": {},
   "outputs": [],
   "source": [
    "def solution(x):\n",
    "    #이름 순으로 먼저 정렬\n",
    "    x.sort()\n",
    "    result = []\n",
    "    sorted_x = sorted(x, key = lambda x: (-x[1], x[2], -x[3]))\n",
    "    for i in sorted_x:\n",
    "        result.append(i[0])\n",
    "    return result"
   ]
  },
  {
   "cell_type": "code",
   "execution_count": 2,
   "metadata": {},
   "outputs": [
    {
     "data": {
      "text/plain": [
       "['Donghyuk',\n",
       " 'Sangkeun',\n",
       " 'Sunyoung',\n",
       " 'nsj',\n",
       " 'Wonseob',\n",
       " 'Sanghyun',\n",
       " 'Sei',\n",
       " 'Kangsoo',\n",
       " 'Haebin',\n",
       " 'Junkyu',\n",
       " 'Soong',\n",
       " 'Taewhan']"
      ]
     },
     "execution_count": 2,
     "metadata": {},
     "output_type": "execute_result"
    }
   ],
   "source": [
    "x = [['Junkyu', 50, 60, 100], \n",
    "    ['Sangkeun', 80, 60, 50], \n",
    "    ['Sunyoung', 80, 70, 100], \n",
    "    ['Soong', 50, 60, 90], \n",
    "    ['Haebin', 50, 60, 100], \n",
    "    ['Kangsoo', 60, 80, 100], \n",
    "    ['Donghyuk', 80, 60, 100], \n",
    "    ['Sei', 70, 70, 70], \n",
    "    ['Wonseob', 70, 70, 90], \n",
    "    ['Sanghyun', 70, 70, 80], \n",
    "    ['nsj', 80, 80, 80], \n",
    "    ['Taewhan', 50, 60, 90]]\n",
    "solution(x)"
   ]
  }
 ],
 "metadata": {
  "kernelspec": {
   "display_name": "Python 3",
   "language": "python",
   "name": "python3"
  },
  "language_info": {
   "codemirror_mode": {
    "name": "ipython",
    "version": 3
   },
   "file_extension": ".py",
   "mimetype": "text/x-python",
   "name": "python",
   "nbconvert_exporter": "python",
   "pygments_lexer": "ipython3",
   "version": "3.8.3"
  }
 },
 "nbformat": 4,
 "nbformat_minor": 4
}
