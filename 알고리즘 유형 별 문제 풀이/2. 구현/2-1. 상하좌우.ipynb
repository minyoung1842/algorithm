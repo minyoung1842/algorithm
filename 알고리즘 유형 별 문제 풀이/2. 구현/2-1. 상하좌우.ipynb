{
 "cells": [
  {
   "cell_type": "markdown",
   "metadata": {},
   "source": [
    "여행가 A는 N * N 크기의 정사각형 공간에 있고 출발 좌표는 항상 (1,1)이다. 한 칸씩 이동을 기준으로 하여 L(왼쪽), R(오른쪽), U(위), D(아래)로 이동한다. 만약 정사각형 공간 범위를 넘어가면 움직임은 무시된다.\n",
    "\n",
    "* 공간의 크기 N이 주어진다. (1~100)\n",
    "* 여행가의 이동 계획서가 주어진다. (1<= 이동횟수 <=100)\n",
    "* 여행가가 최종적으로 도착할 지점의 좌표를 출력한다."
   ]
  },
  {
   "cell_type": "code",
   "execution_count": 1,
   "metadata": {},
   "outputs": [],
   "source": [
    "def solution(N, direction):\n",
    "    row = 1\n",
    "    col = 1\n",
    "    \n",
    "    for i in direction:\n",
    "        if i =='R' and col <= N-1: col += 1\n",
    "        elif i =='L' and col >= 2: col -= 1\n",
    "        elif i =='D' and row <= N-1: row += 1\n",
    "        elif i =='U' and row >= 2: row -= 1\n",
    "        else: pass\n",
    "    return [row, col]"
   ]
  },
  {
   "cell_type": "code",
   "execution_count": 2,
   "metadata": {},
   "outputs": [
    {
     "data": {
      "text/plain": [
       "[3, 4]"
      ]
     },
     "execution_count": 2,
     "metadata": {},
     "output_type": "execute_result"
    }
   ],
   "source": [
    "N = 5\n",
    "direction = ['R', 'R', 'R', 'U', 'D', 'D']\n",
    "solution(N, direction)"
   ]
  }
 ],
 "metadata": {
  "kernelspec": {
   "display_name": "Python 3",
   "language": "python",
   "name": "python3"
  },
  "language_info": {
   "codemirror_mode": {
    "name": "ipython",
    "version": 3
   },
   "file_extension": ".py",
   "mimetype": "text/x-python",
   "name": "python",
   "nbconvert_exporter": "python",
   "pygments_lexer": "ipython3",
   "version": "3.8.3"
  }
 },
 "nbformat": 4,
 "nbformat_minor": 4
}
