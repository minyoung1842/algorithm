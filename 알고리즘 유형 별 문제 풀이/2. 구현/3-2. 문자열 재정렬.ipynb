{
 "cells": [
  {
   "cell_type": "markdown",
   "metadata": {},
   "source": [
    "알파벳 대문자와 숫자 0~9로만 이루어진 문자열이 주어진다. 알파벳을 오름차순으로 정렬하여 이어서 출력한 뒤에, 모든 숫자를 더한 값을 이어서 출력한다.\n",
    "\n",
    "출처: facobook 인터뷰 기출"
   ]
  },
  {
   "cell_type": "code",
   "execution_count": 2,
   "metadata": {},
   "outputs": [
    {
     "name": "stdout",
     "output_type": "stream",
     "text": [
      "65 90 48 57\n"
     ]
    }
   ],
   "source": [
    "print(ord('A'), ord('Z'), ord('0'), ord('9'))"
   ]
  },
  {
   "cell_type": "code",
   "execution_count": 3,
   "metadata": {},
   "outputs": [],
   "source": [
    "def solution(s):\n",
    "    x = sorted(s)\n",
    "    num = 0\n",
    "    result = ''\n",
    "    for i in x:\n",
    "        if i in ['0', '1', '2', '3', '4', '5', '6', '7', '8', '9']: num += int(i)\n",
    "        else: result += i\n",
    "    return result + str(num)"
   ]
  },
  {
   "cell_type": "code",
   "execution_count": 4,
   "metadata": {},
   "outputs": [
    {
     "data": {
      "text/plain": [
       "'ABCKK13'"
      ]
     },
     "execution_count": 4,
     "metadata": {},
     "output_type": "execute_result"
    }
   ],
   "source": [
    "solution('K1KA5CB7') # 'ABCKK13'"
   ]
  },
  {
   "cell_type": "code",
   "execution_count": 5,
   "metadata": {},
   "outputs": [
    {
     "data": {
      "text/plain": [
       "'ADDIJJJKKLSS20'"
      ]
     },
     "execution_count": 5,
     "metadata": {},
     "output_type": "execute_result"
    }
   ],
   "source": [
    "solution('AJKDLSI412K4JSJ9D') # 'ADDIJJJKKLSS20'"
   ]
  }
 ],
 "metadata": {
  "kernelspec": {
   "display_name": "Python 3",
   "language": "python",
   "name": "python3"
  },
  "language_info": {
   "codemirror_mode": {
    "name": "ipython",
    "version": 3
   },
   "file_extension": ".py",
   "mimetype": "text/x-python",
   "name": "python",
   "nbconvert_exporter": "python",
   "pygments_lexer": "ipython3",
   "version": "3.8.3"
  }
 },
 "nbformat": 4,
 "nbformat_minor": 4
}
