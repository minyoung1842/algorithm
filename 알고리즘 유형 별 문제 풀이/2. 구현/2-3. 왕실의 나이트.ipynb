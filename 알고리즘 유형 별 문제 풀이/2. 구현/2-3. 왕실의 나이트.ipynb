{
 "cells": [
  {
   "cell_type": "markdown",
   "metadata": {},
   "source": [
    "체스판 8 * 8 에서 나이트는 다음과 같이 이동할 수 있다.\n",
    "\n",
    "* 수평으로 두 칸 이동한 뒤에 수직으로 한 칸 이동\n",
    "* 수직으로 두 칸 이동한 뒤에 수평으로 한 칸 이동\n",
    "* 행은 1\\~8 열은 a\\~h로 두고 위치는 a1(1행1열) 이런식으로 나타낸다.\n",
    "\n",
    "입력 조건 : 현재 나이트의 위치를 입력\n",
    "출력 조건 : 나이트가 이동할 수 있는 경우의 수를 출력"
   ]
  },
  {
   "cell_type": "code",
   "execution_count": 1,
   "metadata": {},
   "outputs": [],
   "source": [
    "def solution(where):\n",
    "    x, y = int(ord(where[0])-ord('a')+1), int(where[1])\n",
    "    moves = [(-2, -1), (-2, 1), (2, -1), (2, 1), (-1, -2), (1, -2), (-1, 2), (1, 2)]\n",
    "    result = 0\n",
    "    \n",
    "    for a, b in moves:\n",
    "        if 0 < x + a < 9 and 0 < y + b < 9: result += 1\n",
    "    return result"
   ]
  },
  {
   "cell_type": "code",
   "execution_count": 2,
   "metadata": {},
   "outputs": [
    {
     "data": {
      "text/plain": [
       "2"
      ]
     },
     "execution_count": 2,
     "metadata": {},
     "output_type": "execute_result"
    }
   ],
   "source": [
    "solution('a1') # 2"
   ]
  }
 ],
 "metadata": {
  "kernelspec": {
   "display_name": "Python 3",
   "language": "python",
   "name": "python3"
  },
  "language_info": {
   "codemirror_mode": {
    "name": "ipython",
    "version": 3
   },
   "file_extension": ".py",
   "mimetype": "text/x-python",
   "name": "python",
   "nbconvert_exporter": "python",
   "pygments_lexer": "ipython3",
   "version": "3.8.3"
  }
 },
 "nbformat": 4,
 "nbformat_minor": 4
}
