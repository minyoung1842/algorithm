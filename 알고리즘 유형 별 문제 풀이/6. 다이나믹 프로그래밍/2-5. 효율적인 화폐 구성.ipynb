{
 "cells": [
  {
   "cell_type": "markdown",
   "metadata": {},
   "source": [
    "N가지 종류의 화폐가 있다. 이 화폐들의 개수를 최소한으로 이용해서 그 가치의 합이 M원이 되도록 하려고 한다. 각 화폐는 몇 개라도 사용할 수 있으며, 사용한 화폐의 구성은 같지만 순서만 다른 것은 같은 경우로 구분한다.\n",
    "\\\n",
    "이때 최소한의 화폐개수 출력이 불가능한 경우 -1을 반환한다"
   ]
  },
  {
   "cell_type": "code",
   "execution_count": 1,
   "metadata": {},
   "outputs": [],
   "source": [
    "def solution(coin, m):\n",
    "    memo = [10001] * (m+1) \n",
    "    #m의 범위는 1~10000\n",
    "    #memo[i]는 주어진 coin으로 i원이라는 금액을 만들 수 있는 최소 동전 수\n",
    "    memo[0] = 0\n",
    "    \n",
    "    for i in coin:\n",
    "        for j in range(i, m + 1):\n",
    "            if memo[j - i] != 10001:\n",
    "                memo[j] = min(memo[j], memo[j - i] + 1)\n",
    "    return -1 if memo[m] == 10001 else memo[m]"
   ]
  },
  {
   "cell_type": "code",
   "execution_count": 2,
   "metadata": {},
   "outputs": [
    {
     "data": {
      "text/plain": [
       "5"
      ]
     },
     "execution_count": 2,
     "metadata": {},
     "output_type": "execute_result"
    }
   ],
   "source": [
    "coin = [2, 3]\n",
    "m = 15\n",
    "solution(coin, m) # 5"
   ]
  },
  {
   "cell_type": "code",
   "execution_count": 3,
   "metadata": {},
   "outputs": [
    {
     "data": {
      "text/plain": [
       "-1"
      ]
     },
     "execution_count": 3,
     "metadata": {},
     "output_type": "execute_result"
    }
   ],
   "source": [
    "coin = [3, 5, 7]\n",
    "m = 4\n",
    "solution(coin, m) # -1"
   ]
  }
 ],
 "metadata": {
  "kernelspec": {
   "display_name": "Python 3",
   "language": "python",
   "name": "python3"
  },
  "language_info": {
   "codemirror_mode": {
    "name": "ipython",
    "version": 3
   },
   "file_extension": ".py",
   "mimetype": "text/x-python",
   "name": "python",
   "nbconvert_exporter": "python",
   "pygments_lexer": "ipython3",
   "version": "3.8.3"
  }
 },
 "nbformat": 4,
 "nbformat_minor": 4
}
