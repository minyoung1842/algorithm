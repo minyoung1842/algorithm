{
 "cells": [
  {
   "cell_type": "markdown",
   "metadata": {},
   "source": [
    "다음과 같이 n번째 피보나치 수열을 계산할 때, n이 커질수록 함수의 수행시간도 기하급수적으로 늘어나게 된다. n에 따른 계산량은 O($2^n$)이다."
   ]
  },
  {
   "cell_type": "code",
   "execution_count": 1,
   "metadata": {},
   "outputs": [
    {
     "name": "stdout",
     "output_type": "stream",
     "text": [
      "55\n"
     ]
    }
   ],
   "source": [
    "def fibonacci(n):\n",
    "    if n == 1 or n == 2: return 1\n",
    "    return fibonacci(n - 1) + fibonacci(n - 2)\n",
    "\n",
    "print(fibonacci(10))"
   ]
  },
  {
   "cell_type": "markdown",
   "metadata": {},
   "source": [
    "따라서 다음과 같이 다이나믹 프로그래밍을 이용하여 이러한 계산량을 줄인다."
   ]
  },
  {
   "cell_type": "markdown",
   "metadata": {},
   "source": [
    "### 1. 탑다운 DP"
   ]
  },
  {
   "cell_type": "code",
   "execution_count": 2,
   "metadata": {},
   "outputs": [
    {
     "name": "stdout",
     "output_type": "stream",
     "text": [
      "2880067194370816120\n"
     ]
    }
   ],
   "source": [
    "memo = [0] * 100\n",
    "\n",
    "def fibonacci(n):\n",
    "    if n == 1 or n == 2: return 1\n",
    "    if memo[n] != 0: return memo[n]\n",
    "    memo[n] = fibonacci(n-1) + fibonacci(n-2)\n",
    "    return memo[n]\n",
    "\n",
    "print(fibonacci(90))"
   ]
  },
  {
   "cell_type": "markdown",
   "metadata": {},
   "source": [
    "### 2. 보텀업 DP"
   ]
  },
  {
   "cell_type": "code",
   "execution_count": 3,
   "metadata": {},
   "outputs": [
    {
     "name": "stdout",
     "output_type": "stream",
     "text": [
      "2880067194370816120\n"
     ]
    }
   ],
   "source": [
    "memo = [0] * 100\n",
    "memo[1] = 1\n",
    "memo[2] = 1\n",
    "\n",
    "def fibonacci(n):\n",
    "    for i in range(3, n+1):\n",
    "        memo[i] = memo[i-1] + memo[i-2]\n",
    "    return memo[n]\n",
    "\n",
    "print(fibonacci(90))"
   ]
  }
 ],
 "metadata": {
  "kernelspec": {
   "display_name": "Python 3",
   "language": "python",
   "name": "python3"
  },
  "language_info": {
   "codemirror_mode": {
    "name": "ipython",
    "version": 3
   },
   "file_extension": ".py",
   "mimetype": "text/x-python",
   "name": "python",
   "nbconvert_exporter": "python",
   "pygments_lexer": "ipython3",
   "version": "3.8.3"
  }
 },
 "nbformat": 4,
 "nbformat_minor": 4
}
