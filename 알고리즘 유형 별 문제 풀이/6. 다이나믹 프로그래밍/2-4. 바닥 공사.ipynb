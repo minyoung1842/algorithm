{
 "cells": [
  {
   "cell_type": "markdown",
   "metadata": {},
   "source": [
    "가로의 길이가 N, 세로의 길이가 2인 직사각형의 바닥이 있다. 이 바닥을 1 * 2의 덮개 2 * 1의 덮개, 2 * 2 의 덮개를 이용해 채우고자 한다. 이때 바닥을 채우는 모든 경우의 수를 구하시오."
   ]
  },
  {
   "cell_type": "code",
   "execution_count": 1,
   "metadata": {},
   "outputs": [],
   "source": [
    "memo = [0] * 1001 \n",
    "#N의 범위는 1~1000\n",
    "#memo[i]는 가로의 길이가 i일 때, 바닥을 채울 수 있는 경우의수\n",
    "\n",
    "def solution(N):\n",
    "    memo[1] = 1\n",
    "    memo[2] = 3\n",
    "    \n",
    "    for i in range(3, N+1):\n",
    "        memo[i] = memo[i-1] + 2 * memo[i-2]\n",
    "    \n",
    "    return memo[N]"
   ]
  },
  {
   "cell_type": "code",
   "execution_count": 2,
   "metadata": {},
   "outputs": [
    {
     "data": {
      "text/plain": [
       "5"
      ]
     },
     "execution_count": 2,
     "metadata": {},
     "output_type": "execute_result"
    }
   ],
   "source": [
    "solution(3) # 5"
   ]
  }
 ],
 "metadata": {
  "kernelspec": {
   "display_name": "Python 3",
   "language": "python",
   "name": "python3"
  },
  "language_info": {
   "codemirror_mode": {
    "name": "ipython",
    "version": 3
   },
   "file_extension": ".py",
   "mimetype": "text/x-python",
   "name": "python",
   "nbconvert_exporter": "python",
   "pygments_lexer": "ipython3",
   "version": "3.8.3"
  }
 },
 "nbformat": 4,
 "nbformat_minor": 4
}
