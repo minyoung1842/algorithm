{
 "cells": [
  {
   "cell_type": "markdown",
   "metadata": {},
   "source": [
    "개미 전사는 메뚜기 마을에 여러 개의 식량 창고를 공격하려고 한다. 식량창고는 일직선으로 이어져있고 정해진 수의 식량을 저장하고 있다. 개미 전사는 식량창고를 선택적으로 약탈하여 식량을 빼앗을 예정이다. 메뚜기 정찰병들은 일직선상에 존재하는 식량창고 중에서 서로 인접한 식량창고가 공격당하면 알아챌 수 있다. 따라서 최소한 한 칸 이상 떨어진 식량창고를 약탈해야 들키지 않는다. 예를 들어 {1,3,1,5}가 있다면 3과 5를 털어야 최대한 많은 식량을 얻을 수 있는 것이다."
   ]
  },
  {
   "cell_type": "code",
   "execution_count": 1,
   "metadata": {},
   "outputs": [],
   "source": [
    "memo = [0]*100\n",
    "#창고 개수의 범위는 3~100\n",
    "#i를 현재 있는 창고라고 하였을 때, 현재 창고를 공격할 경우와 공격하지 않을 경우 얻을 수 있는 식량 중 더 큰 값을 선택한다.\n",
    "\n",
    "def solution(store):\n",
    "    memo[0] = store[0]\n",
    "    memo[1] = max(memo[0], store[1])\n",
    "    n = len(store)\n",
    "    \n",
    "    for i in range(2, n):\n",
    "        memo[i] = max(memo[i-1], memo[i-2] + store[i])\n",
    "    \n",
    "    return memo[n-1]"
   ]
  },
  {
   "cell_type": "code",
   "execution_count": 2,
   "metadata": {},
   "outputs": [
    {
     "data": {
      "text/plain": [
       "8"
      ]
     },
     "execution_count": 2,
     "metadata": {},
     "output_type": "execute_result"
    }
   ],
   "source": [
    "solution([1, 3, 1, 5]) # 8"
   ]
  }
 ],
 "metadata": {
  "kernelspec": {
   "display_name": "Python 3",
   "language": "python",
   "name": "python3"
  },
  "language_info": {
   "codemirror_mode": {
    "name": "ipython",
    "version": 3
   },
   "file_extension": ".py",
   "mimetype": "text/x-python",
   "name": "python",
   "nbconvert_exporter": "python",
   "pygments_lexer": "ipython3",
   "version": "3.8.3"
  }
 },
 "nbformat": 4,
 "nbformat_minor": 4
}
