{
 "cells": [
  {
   "cell_type": "markdown",
   "metadata": {},
   "source": [
    "정수 X가 주어질 때 정수 X에 사용할 수 있는 연산은 다음과 같다.\n",
    "\n",
    "* X 5로 나누어떨어지면 5로 나눈다.\n",
    "* X가 3으로 나누어떨어지면 3으로 나눈다.\n",
    "* X가 2로 나누어떨어지면 2로 나눈다.\n",
    "* X에서 1을 뺀다.\n",
    "\n",
    "4개의 연산을 적절히 이용해서 X를 1로 만들려고한다. 연산을 사용하는 최소 횟수를 출력하시오."
   ]
  },
  {
   "cell_type": "code",
   "execution_count": 1,
   "metadata": {},
   "outputs": [],
   "source": [
    "memo = [0]*30001 \n",
    "#x의 범위는 1~30000\n",
    "#memo[i]에 입력되는 값은 X = i일 때, 위의 네가지 연산을 사용하는 최소 횟수\n",
    "\n",
    "def solution(x):\n",
    "    for i in range(2, x+1):\n",
    "        memo[i] = memo[i-1] + 1\n",
    "        \n",
    "        if i % 2 == 0: memo[i] = min(memo[i], memo[i//2] + 1)\n",
    "        if i % 3 == 0: memo[i] = min(memo[i], memo[i//3] + 1)\n",
    "        if i % 5 == 0: memo[i] = min(memo[i], memo[i//5] + 1)\n",
    "    \n",
    "    return memo[x]"
   ]
  },
  {
   "cell_type": "code",
   "execution_count": 2,
   "metadata": {},
   "outputs": [
    {
     "data": {
      "text/plain": [
       "3"
      ]
     },
     "execution_count": 2,
     "metadata": {},
     "output_type": "execute_result"
    }
   ],
   "source": [
    "solution(26) #3"
   ]
  }
 ],
 "metadata": {
  "kernelspec": {
   "display_name": "Python 3",
   "language": "python",
   "name": "python3"
  },
  "language_info": {
   "codemirror_mode": {
    "name": "ipython",
    "version": 3
   },
   "file_extension": ".py",
   "mimetype": "text/x-python",
   "name": "python",
   "nbconvert_exporter": "python",
   "pygments_lexer": "ipython3",
   "version": "3.8.3"
  }
 },
 "nbformat": 4,
 "nbformat_minor": 4
}
