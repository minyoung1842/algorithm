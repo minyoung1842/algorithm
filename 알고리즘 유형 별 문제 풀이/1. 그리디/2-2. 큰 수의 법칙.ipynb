{
 "cells": [
  {
   "cell_type": "markdown",
   "metadata": {},
   "source": [
    "주어진 data에 있는 숫자들을 총 M번 더하여 가장 큰 수를 만든다. 이때 동일한 숫자를 연속하여 K번 초과해 더할 수 없다.\n",
    "\n",
    "\n",
    "(예시)\n",
    "data = \\[2, 4, 5, 4, 6\\], M = 8, K = 3일 때\n",
    "\\\n",
    "정답은 6+6+6+5+6+6+6+5=46\n",
    "\n",
    "\n",
    "출처: 2019 국가 교육기관 코딩테스트"
   ]
  },
  {
   "cell_type": "code",
   "execution_count": 1,
   "metadata": {},
   "outputs": [],
   "source": [
    "def solution(data, M, K):\n",
    "    data.sort(reverse = True)\n",
    "    N = len(data)\n",
    "    result = 0\n",
    "\n",
    "    a, b = divmod(M, K+1)\n",
    "    if b==0: result = (data[0] * K + data[1]) * a\n",
    "    if b!=0: result = (data[0] * K + data[1]) * a + data[0] * b\n",
    "    \n",
    "    return result"
   ]
  },
  {
   "cell_type": "code",
   "execution_count": 2,
   "metadata": {},
   "outputs": [
    {
     "data": {
      "text/plain": [
       "46"
      ]
     },
     "execution_count": 2,
     "metadata": {},
     "output_type": "execute_result"
    }
   ],
   "source": [
    "data = [2, 3, 5, 4, 6]\n",
    "M = 8\n",
    "K = 3\n",
    "#결과 46\n",
    "solution(data, M, K)"
   ]
  }
 ],
 "metadata": {
  "kernelspec": {
   "display_name": "Python 3",
   "language": "python",
   "name": "python3"
  },
  "language_info": {
   "codemirror_mode": {
    "name": "ipython",
    "version": 3
   },
   "file_extension": ".py",
   "mimetype": "text/x-python",
   "name": "python",
   "nbconvert_exporter": "python",
   "pygments_lexer": "ipython3",
   "version": "3.8.3"
  }
 },
 "nbformat": 4,
 "nbformat_minor": 4
}
