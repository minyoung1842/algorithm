{
 "cells": [
  {
   "cell_type": "markdown",
   "metadata": {},
   "source": [
    "동전 500, 100, 50, 10으로 금액 N을 만들 때, 최소로 이용할 수 있는 동전의 개수를 반환"
   ]
  },
  {
   "cell_type": "code",
   "execution_count": 1,
   "metadata": {},
   "outputs": [],
   "source": [
    "def solution(N):\n",
    "    coins = [500, 100, 50, 10]\n",
    "    num_coin = 0\n",
    "    \n",
    "    for i in coins:\n",
    "        n = N//i\n",
    "        num_coin += n\n",
    "        #아래 줄은 N %= i로도 변경 가능!\n",
    "        N -= i*n\n",
    "    return num_coin"
   ]
  },
  {
   "cell_type": "code",
   "execution_count": 2,
   "metadata": {},
   "outputs": [
    {
     "data": {
      "text/plain": [
       "6"
      ]
     },
     "execution_count": 2,
     "metadata": {},
     "output_type": "execute_result"
    }
   ],
   "source": [
    "solution(1260)"
   ]
  }
 ],
 "metadata": {
  "kernelspec": {
   "display_name": "Python 3",
   "language": "python",
   "name": "python3"
  },
  "language_info": {
   "codemirror_mode": {
    "name": "ipython",
    "version": 3
   },
   "file_extension": ".py",
   "mimetype": "text/x-python",
   "name": "python",
   "nbconvert_exporter": "python",
   "pygments_lexer": "ipython3",
   "version": "3.8.3"
  }
 },
 "nbformat": 4,
 "nbformat_minor": 4
}
