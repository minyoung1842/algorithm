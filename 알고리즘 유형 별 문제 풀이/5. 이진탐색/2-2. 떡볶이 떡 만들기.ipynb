{
 "cells": [
  {
   "cell_type": "markdown",
   "metadata": {},
   "source": [
    "절단기에 높이를 지정하면 줄지어진 떡을 한 번에 절단한다. 높이가 H보다 긴 떡은 H위의 부분이 잘릴 것이고, 낮은 떡은 잘리지 않는다. 예를 들어 19 14 10 17 cm인 떡이 있고 절단기 높이가 15라면 4 0 0 2 만큼이 절단될 것이다. 그렇다면 손님은 총 6cm만큼의 길이를 가져가게 된다.\n",
    "손님이 요청한 길이가 M일 때 적어도 M만큼의 떡을 얻기 위해 절단기에 설정할 수 있는 높이의 최댓값을 구하는 프로그램을 작성하시오.\n",
    "\n",
    "* 요청한 떡의 길이 M과 N개의 떡의 길이가 담긴 리스트 rc가 주어진다.(1<=N=1,000,000 , 1<=M<=2,000,000,000)\n",
    "* 떡 높이의 총 합은 항상 M이상이므로, 손님은 필요한 양만큼 떡을 사갈 수 있다."
   ]
  },
  {
   "cell_type": "code",
   "execution_count": 1,
   "metadata": {},
   "outputs": [],
   "source": [
    "def solution(M, rc):\n",
    "    start = 0\n",
    "    end = max(rc)\n",
    "    result = 0\n",
    "    \n",
    "    while start <= end:\n",
    "        mid = (start + end) // 2\n",
    "        cake = sum([x - mid for x in rc if x > mid])\n",
    "        if cake < M: end = mid - 1\n",
    "        else:\n",
    "            result = mid\n",
    "            start = mid +1\n",
    "    return result"
   ]
  },
  {
   "cell_type": "code",
   "execution_count": 2,
   "metadata": {},
   "outputs": [
    {
     "data": {
      "text/plain": [
       "15"
      ]
     },
     "execution_count": 2,
     "metadata": {},
     "output_type": "execute_result"
    }
   ],
   "source": [
    "M = 6 #요청한 떡의 길이\n",
    "rc = [19, 15, 10, 17] #개별 떡의 길이\n",
    "solution(M, rc)"
   ]
  }
 ],
 "metadata": {
  "kernelspec": {
   "display_name": "Python 3",
   "language": "python",
   "name": "python3"
  },
  "language_info": {
   "codemirror_mode": {
    "name": "ipython",
    "version": 3
   },
   "file_extension": ".py",
   "mimetype": "text/x-python",
   "name": "python",
   "nbconvert_exporter": "python",
   "pygments_lexer": "ipython3",
   "version": "3.8.3"
  }
 },
 "nbformat": 4,
 "nbformat_minor": 4
}
