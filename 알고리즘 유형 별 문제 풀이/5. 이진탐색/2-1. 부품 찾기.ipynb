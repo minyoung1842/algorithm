{
 "cells": [
  {
   "cell_type": "markdown",
   "metadata": {},
   "source": [
    "전자 매장에는 부품이 N개가 있고 각 부품은 정수 형태의 고유번호가 있다. 손님이 M개의 종류의 부품을 대량으로 구매하겠다고 견적서를 보냈고 직원은 문의한 부품 M개의 종류를 모두 확인해서 견적서를 작성해야 한다. 이때 손님이 요청한 부품 번호의 순서대로 부품을 확인해서 부품이 있으면 yes 없으면 no를 출력한다. 구분은 공백으로 한다.\n",
    "\n",
    "* stock에는  N개의 정수가 주어진다.(1<=N<=1,000,000) 정수는 1 ~ 1,000,000 사이\n",
    "* customer에는 M개의 정수가 주어진다.(1<=M<=1,000,000) 정수는 1보다 크고 10억 이하이다."
   ]
  },
  {
   "cell_type": "code",
   "execution_count": 1,
   "metadata": {},
   "outputs": [],
   "source": [
    "def binary_search(stock, target, start, end):\n",
    "    while start <= end:\n",
    "        mid = (start + end) // 2\n",
    "        \n",
    "        if stock[mid] == target: return mid\n",
    "        elif stock[mid] < target: start = mid +1\n",
    "        else: end = mid - 1\n",
    "            \n",
    "    return None\n",
    "\n",
    "def solution(stock, customer):\n",
    "    stock.sort()\n",
    "    start = 0\n",
    "    end = len(stock)-1\n",
    "    result = []\n",
    "    \n",
    "    for i in customer:\n",
    "        x = binary_search(stock, i, start, end)\n",
    "        if x != None: result.append('yes')\n",
    "        else: result.append('no')\n",
    "    return result\n",
    "                "
   ]
  },
  {
   "cell_type": "code",
   "execution_count": 2,
   "metadata": {},
   "outputs": [
    {
     "data": {
      "text/plain": [
       "['no', 'yes', 'yes']"
      ]
     },
     "execution_count": 2,
     "metadata": {},
     "output_type": "execute_result"
    }
   ],
   "source": [
    "stock = [8, 3, 7, 9, 2] #매장 재고\n",
    "customer = [5, 7, 9] #손님이 요구한 제품 번호\n",
    "solution(stock, customer)"
   ]
  }
 ],
 "metadata": {
  "kernelspec": {
   "display_name": "Python 3",
   "language": "python",
   "name": "python3"
  },
  "language_info": {
   "codemirror_mode": {
    "name": "ipython",
    "version": 3
   },
   "file_extension": ".py",
   "mimetype": "text/x-python",
   "name": "python",
   "nbconvert_exporter": "python",
   "pygments_lexer": "ipython3",
   "version": "3.8.3"
  }
 },
 "nbformat": 4,
 "nbformat_minor": 4
}
